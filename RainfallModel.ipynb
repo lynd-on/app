{
 "cells": [
  {
   "cell_type": "code",
   "execution_count": 1,
   "metadata": {},
   "outputs": [
    {
     "name": "stdout",
     "output_type": "stream",
     "text": [
      "Model Accuracy: 0.7143\n",
      "Model saved successfully!\n"
     ]
    }
   ],
   "source": [
    "import numpy as np\n",
    "import librosa\n",
    "import os\n",
    "import pickle\n",
    "from sklearn.model_selection import train_test_split\n",
    "from sklearn.ensemble import RandomForestClassifier\n",
    "from sklearn.metrics import accuracy_score\n",
    "\n",
    "# Paths\n",
    "data_directory = r'C:/Users/HomePC/Desktop/RainfallDetector/data/raw_audio'  # Adjusted for cross-platform use\n",
    "model_save_path = r'C:/Users/HomePC/Desktop/RainfallDetector/app/model.pkl'\n",
    "\n",
    "# Feature extraction function using MFCC\n",
    "def extract_mfcc_features(file_path):\n",
    "    \"\"\"\n",
    "    Extracts MFCC (Mel-frequency cepstral coefficients) features from an audio file.\n",
    "    \"\"\"\n",
    "    audio, sample_rate = librosa.load(file_path, res_type='kaiser_fast')\n",
    "    mfccs = np.mean(librosa.feature.mfcc(y=audio, sr=sample_rate, n_mfcc=40).T, axis=0)  # Get 40 MFCC features\n",
    "    return mfccs\n",
    "\n",
    "# Function to load audio files and their corresponding labels\n",
    "def load_audio_data(data_folder):\n",
    "    \"\"\"\n",
    "    Loads audio files and their associated labels from the given folder.\n",
    "    Each label is the name of the folder containing the .wav file.\n",
    "    \"\"\"\n",
    "    audio_files = []\n",
    "    labels = []\n",
    "\n",
    "    # Walk through the folder and get the .wav files\n",
    "    for root, _, files in os.walk(data_folder):\n",
    "        for file in files:\n",
    "            if file.endswith('.wav'):  # Only process .wav files\n",
    "                audio_path = os.path.join(root, file)\n",
    "                label = os.path.basename(root)  # Label is the folder name\n",
    "                audio_files.append(audio_path)\n",
    "                labels.append(label)\n",
    "    \n",
    "    return audio_files, labels\n",
    "\n",
    "# Load audio files and labels\n",
    "audio_files, labels = load_audio_data(data_directory)\n",
    "\n",
    "# Check if there are any files in the dataset\n",
    "if len(audio_files) == 0:\n",
    "    print(\"No audio files found in the directory.\")\n",
    "else:\n",
    "    # Extract features for all audio files\n",
    "    X = [extract_mfcc_features(file) for file in audio_files]\n",
    "    y = labels\n",
    "\n",
    "    # Check if features and labels are non-empty\n",
    "    if len(X) == 0 or len(y) == 0:\n",
    "        print(\"No features extracted. Check your audio files or extraction process.\")\n",
    "    else:\n",
    "        # Split the data into training and testing sets (80% training, 20% testing)\n",
    "        X_train, X_test, y_train, y_test = train_test_split(X, y, test_size=0.2, random_state=42)\n",
    "\n",
    "        # Initialize and train the RandomForest model\n",
    "        rf_model = RandomForestClassifier(n_estimators=100, random_state=42)\n",
    "        rf_model.fit(X_train, y_train)\n",
    "\n",
    "        # Make predictions on the test set\n",
    "        y_pred = rf_model.predict(X_test)\n",
    "\n",
    "        # Evaluate the model's accuracy\n",
    "        accuracy = accuracy_score(y_test, y_pred)\n",
    "        print(f\"Model Accuracy: {accuracy:.4f}\")\n",
    "\n",
    "        # Save the trained model to a file\n",
    "        with open(model_save_path, 'wb') as model_file:\n",
    "            pickle.dump(rf_model, model_file)\n",
    "\n",
    "        print(\"Model saved successfully!\")\n"
   ]
  },
  {
   "cell_type": "code",
   "execution_count": null,
   "metadata": {},
   "outputs": [],
   "source": []
  },
  {
   "cell_type": "code",
   "execution_count": null,
   "metadata": {},
   "outputs": [],
   "source": []
  },
  {
   "cell_type": "code",
   "execution_count": null,
   "metadata": {},
   "outputs": [],
   "source": []
  }
 ],
 "metadata": {
  "kernelspec": {
   "display_name": "Python 3 (ipykernel)",
   "language": "python",
   "name": "python3"
  },
  "language_info": {
   "codemirror_mode": {
    "name": "ipython",
    "version": 3
   },
   "file_extension": ".py",
   "mimetype": "text/x-python",
   "name": "python",
   "nbconvert_exporter": "python",
   "pygments_lexer": "ipython3",
   "version": "3.12.8"
  }
 },
 "nbformat": 4,
 "nbformat_minor": 4
}
